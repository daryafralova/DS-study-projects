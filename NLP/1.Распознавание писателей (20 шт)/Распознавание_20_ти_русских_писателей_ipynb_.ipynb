{
  "nbformat": 4,
  "nbformat_minor": 0,
  "metadata": {
    "colab": {
      "provenance": []
    },
    "kernelspec": {
      "name": "python3",
      "display_name": "Python 3"
    },
    "language_info": {
      "name": "python"
    },
    "accelerator": "GPU"
  },
  "cells": [
    {
      "cell_type": "markdown",
      "metadata": {
        "id": "3hahJ-ONkfmR"
      },
      "source": [
        "**Домашнее задание Ultra Pro: обработка текстов с помощью нейросетей**\n",
        "\n",
        "На этот раз задача усложняется: нужно распознать 20 русских писателей, а не 6, как раньше. Для этого потребуется более объёмная база данных для обучения. Ячейка для скачивания базы данных уже есть в ноутбуке с заданием.\n",
        "\n",
        "**Задание состоит из нескольких этапов:**\n",
        "1. Скачайте базу данных по предоставленной ссылке и подготовьте файлы базы для обработки.\n",
        "2. Создайте обучающую и проверочную выборки, уделяя особое внимание балансировке базы: количество примеров каждого класса должно быть примерно одинаковым. Используйте цикл для разбивки данных. Проверочная выборка должна составлять 20% от общей выборки.\n",
        "3. Подготовьте данные для обучения и обучите сеть. Добейтесь точности сети не менее 95% на проверочной выборке модели Bag of Words и 75–80% — для модели Embedding. Каждый пункт задания важен\n"
      ]
    },
    {
      "cell_type": "markdown",
      "metadata": {
        "id": "QolTxRtFWm3r"
      },
      "source": [
        "## Загрузка данных и подготовка данных для обработки"
      ]
    },
    {
      "cell_type": "markdown",
      "source": [
        "**Подключение библиотек**"
      ],
      "metadata": {
        "id": "fnUMfhP61nWQ"
      }
    },
    {
      "cell_type": "code",
      "source": [
        "import numpy as np\n",
        "import pandas as pd\n",
        "import matplotlib.pyplot as plt\n",
        "from tensorflow.keras import utils\n",
        "from tensorflow.keras.models import Sequential\n",
        "from tensorflow.keras.layers import Dense, Dropout, SpatialDropout1D, BatchNormalization, Embedding, Flatten, Activation\n",
        "from tensorflow.keras.preprocessing.text import Tokenizer\n",
        "from tensorflow.keras.preprocessing.sequence import pad_sequences\n",
        "import gdown\n",
        "import os\n",
        "import matplotlib.pyplot as plt\n",
        "%matplotlib inline"
      ],
      "metadata": {
        "id": "7RCcv3jEYGnM"
      },
      "execution_count": null,
      "outputs": []
    },
    {
      "cell_type": "code",
      "source": [
        "gdown.download('https://drive.google.com/uc?id=1mRfaDmJYeYKUlqoNioOalZZngt5ZvKUE')"
      ],
      "metadata": {
        "colab": {
          "base_uri": "https://localhost:8080/",
          "height": 128
        },
        "id": "k5Yw4pDxY3d0",
        "outputId": "653df44f-1a5f-467b-e04d-8f3d59d4302f"
      },
      "execution_count": null,
      "outputs": [
        {
          "output_type": "stream",
          "name": "stderr",
          "text": [
            "Downloading...\n",
            "From (original): https://drive.google.com/uc?id=1mRfaDmJYeYKUlqoNioOalZZngt5ZvKUE\n",
            "From (redirected): https://drive.google.com/uc?id=1mRfaDmJYeYKUlqoNioOalZZngt5ZvKUE&confirm=t&uuid=e5aa2400-fb37-4dd8-904a-1ac8c73daa4a\n",
            "To: /content/20writers.zip\n",
            "100%|██████████| 28.5M/28.5M [00:00<00:00, 37.2MB/s]\n"
          ]
        },
        {
          "output_type": "execute_result",
          "data": {
            "text/plain": [
              "'20writers.zip'"
            ],
            "application/vnd.google.colaboratory.intrinsic+json": {
              "type": "string"
            }
          },
          "metadata": {},
          "execution_count": 2
        }
      ]
    },
    {
      "cell_type": "code",
      "source": [
        "!unzip -qo 20writers.zip -d writers/\n",
        "!ls writers"
      ],
      "metadata": {
        "colab": {
          "base_uri": "https://localhost:8080/"
        },
        "id": "-W8g0iKRY9Ws",
        "outputId": "f587ae44-e862-4777-fc15-6a37dd4cc012"
      },
      "execution_count": null,
      "outputs": [
        {
          "output_type": "stream",
          "name": "stdout",
          "text": [
            "Беляев.txt    Гончаров.txt     Каверин.txt    Лесков.txt     Толстой.txt\n",
            "Булгаков.txt  Горький.txt      Катаев.txt     Носов.txt      Тургенев.txt\n",
            "Васильев.txt  Грибоедов.txt    Куприн.txt     Пастернак.txt  Чехов.txt\n",
            "Гоголь.txt    Достоевский.txt  Лермонтов.txt  Пушкин.txt     Шолохов.txt\n"
          ]
        }
      ]
    },
    {
      "cell_type": "code",
      "source": [
        "# Чтение файла в текст.Данный код читает все текстовые файлы\n",
        "def text_read(path):               # функция принимает имя файла\n",
        "    f = open(path, 'r')            # задаем открытие нужного файла в режиме чтения\n",
        "    text = f.read()                # читаем текст\n",
        "    text = text.replace('\\n',' ')  # переносы строки переводим в пробелы\n",
        "    return text                    # функция возвращает текст файла"
      ],
      "metadata": {
        "id": "Mvj8yWb1arHU"
      },
      "execution_count": null,
      "outputs": []
    },
    {
      "cell_type": "code",
      "source": [
        "#Загружаем тексты\n",
        "path = '/content/writers'\n",
        "className = sorted(os.listdir(path)) # добавляет все файлы в один список\n",
        "nClasses = len(className) #считаем кол-во классов\n",
        "\n",
        "data_text = [] #загрузка текстов из файлов\n",
        "for i in className:\n",
        "    data_text.append(text_read(os.path.join(path,i)))"
      ],
      "metadata": {
        "id": "tiB95xpTassl"
      },
      "execution_count": null,
      "outputs": []
    },
    {
      "cell_type": "code",
      "source": [
        "total_chars = sum(len(text) for text in data_text)\n",
        "print(total_chars) #всего символов в data_text"
      ],
      "metadata": {
        "colab": {
          "base_uri": "https://localhost:8080/"
        },
        "id": "ilMEmQNtfLzd",
        "outputId": "9dd2ad65-7d0e-4e62-dd00-9ba0cfb93ce1"
      },
      "execution_count": null,
      "outputs": [
        {
          "output_type": "stream",
          "name": "stdout",
          "text": [
            "56208451\n"
          ]
        }
      ]
    },
    {
      "cell_type": "code",
      "source": [
        "char_counts = [len(text) for text in data_text]\n",
        "print(char_counts)  #проверим кол-во символов в каждом тексте отдельно"
      ],
      "metadata": {
        "colab": {
          "base_uri": "https://localhost:8080/"
        },
        "id": "fcfe1Zr_fNwj",
        "outputId": "26456bbb-1c93-4463-d038-85acbc533caa"
      },
      "execution_count": null,
      "outputs": [
        {
          "output_type": "stream",
          "name": "stdout",
          "text": [
            "[2255254, 2001064, 2952792, 1965119, 3104712, 2523380, 969109, 5178950, 1992830, 2579246, 2328900, 1972541, 2152214, 2399413, 3089426, 3408339, 3357061, 1980206, 6611627, 3386268]\n"
          ]
        }
      ]
    },
    {
      "cell_type": "code",
      "source": [
        "className"
      ],
      "metadata": {
        "colab": {
          "base_uri": "https://localhost:8080/"
        },
        "id": "qB6E5jY-dL7r",
        "outputId": "10f3614e-9c33-481a-b88b-6e80b9abafde"
      },
      "execution_count": null,
      "outputs": [
        {
          "output_type": "execute_result",
          "data": {
            "text/plain": [
              "['Беляев.txt',\n",
              " 'Булгаков.txt',\n",
              " 'Васильев.txt',\n",
              " 'Гоголь.txt',\n",
              " 'Гончаров.txt',\n",
              " 'Горький.txt',\n",
              " 'Грибоедов.txt',\n",
              " 'Достоевский.txt',\n",
              " 'Каверин.txt',\n",
              " 'Катаев.txt',\n",
              " 'Куприн.txt',\n",
              " 'Лермонтов.txt',\n",
              " 'Лесков.txt',\n",
              " 'Носов.txt',\n",
              " 'Пастернак.txt',\n",
              " 'Пушкин.txt',\n",
              " 'Толстой.txt',\n",
              " 'Тургенев.txt',\n",
              " 'Чехов.txt',\n",
              " 'Шолохов.txt']"
            ]
          },
          "metadata": {},
          "execution_count": 6
        }
      ]
    },
    {
      "cell_type": "code",
      "source": [
        "nClasses"
      ],
      "metadata": {
        "colab": {
          "base_uri": "https://localhost:8080/"
        },
        "id": "Py1EKBnydPpL",
        "outputId": "45f1d902-188f-4562-ef34-6c3dc35f8712"
      },
      "execution_count": null,
      "outputs": [
        {
          "output_type": "execute_result",
          "data": {
            "text/plain": [
              "20"
            ]
          },
          "metadata": {},
          "execution_count": 7
        }
      ]
    },
    {
      "cell_type": "markdown",
      "source": [
        "###Cоздание обучающей и тестовой выборок"
      ],
      "metadata": {
        "id": "nU7q9DDM11L4"
      }
    },
    {
      "cell_type": "code",
      "source": [
        "# Разделяем на обучающую/проверочную выборки\n",
        "num = 0.2 #выделяем в тестовую выборку 20%\n",
        "train_text = [] #список для обучающей выборки\n",
        "test_text = [] #список для тестовой выборки\n",
        "for i in range(nClasses):\n",
        "    train_text.append(data_text[i][:-int(len(data_text[i])*num)])\n",
        "    test_text.append(data_text[i][-int(len(data_text[i])*num):])"
      ],
      "metadata": {
        "id": "4W_wGvbQawNc"
      },
      "execution_count": null,
      "outputs": []
    },
    {
      "cell_type": "markdown",
      "source": [
        "Как работает код выше?\n",
        "*   указываем что для тестовой выборки будем использовать 20% текста (каждого писателя)\n",
        "*   создаем пустые списки для тестовой выборки и обучающей выборки\n",
        "\n",
        "Например:\n",
        "\n",
        "*   data_text = [\n",
        "    \"1234567890\",  # 10 символов\n",
        "    \"abcdefghij\",  # 10 символов\n",
        "    \"0123456789012345\",  # 16 символов\n",
        "    ...\n",
        "]\n",
        "\n",
        "*   После разбиения (num = 0.2):\n",
        "\n",
        "\n",
        "train_text получит первые 80% символов:\n",
        "train_text = [\n",
        "    \"12345678\",  # 8 символов (80% от 10)\n",
        "    \"abcdefgh\",  # 8 символов (80% от 10)\n",
        "    \"0123456789012\",  # 12 символов (80% от 16)\n",
        "    ...\n",
        "]\n",
        "\n",
        "\n",
        "*   test_text получит последние 20% символов:\n",
        "test_text = [\n",
        "    \"90\",  # 2 символа (20% от 10)\n",
        "    \"ij\",  # 2 символа (20% от 10)\n",
        "    \"345\",  # 3 символа (20% от 16)\n",
        "    ...\n",
        "]\n",
        "\n",
        "\n",
        "В итоге:\n",
        "*  train_text содержит 20 текстов (укороченные на 20%)\n",
        "*  test_text содержит 20 текстов (взявшие последние 20%)\n",
        "*  Каждый текст в train_text примерно в 4 раза длиннее, чем в test_text\n",
        "\n",
        "\n",
        "\n",
        "\n",
        "\n",
        "\n",
        "\n",
        "\n"
      ],
      "metadata": {
        "id": "zU7wcpQD3-Hg"
      }
    },
    {
      "cell_type": "markdown",
      "source": [
        "** Код ниже превращает последовательность индексов слов (wordIndexes) в набор более коротких векторов фиксированной длины (xLen) с заданным шагом (step).**"
      ],
      "metadata": {
        "id": "ck5OvcJX5mjJ"
      }
    },
    {
      "cell_type": "code",
      "source": [
        "# Формирование обучающей выборки по листу индексов слов (разделение на короткие векторы)\n",
        "def getSetFromIndexes(wordIndexes, xLen, step): #wordIndexes - список индексов слов, xLen-длина каждого получаемого вектора, step - шаг, с которым сдвигается окно при разбиении\n",
        "  xSample = []\n",
        "  wordsLen = len(wordIndexes)\n",
        "  index = 0\n",
        "\n",
        "  # Идём по всей длине вектора индексов\n",
        "  # \"Откусываем\" векторы длины xLen и смещаеммся вперёд на step\n",
        "\n",
        "  while (index + xLen <= wordsLen):\n",
        "    xSample.append(wordIndexes[index:index+xLen])\n",
        "    index += step\n",
        "\n",
        "  return xSample"
      ],
      "metadata": {
        "id": "Ch3MV58Daxu1"
      },
      "execution_count": null,
      "outputs": []
    },
    {
      "cell_type": "markdown",
      "source": [
        "**Как происходить разбиение индексов?**\n",
        "*   Берётся подсписок длины xLen из wordIndexes\n",
        "*   Записывается в xSample\n",
        "*   Сдвигаем index на step и повторяем\n",
        "*   Когда не хватает символов для полного вектора (index + xLen > wordsLen), цикл прекращается.\n",
        "\n",
        "Например:\n",
        "\n",
        "xLen = 4\n",
        "step = 2\n",
        "\n",
        "result = getSetFromIndexes(wordIndexes, xLen, step)\n",
        "print(result)\n",
        "\n",
        "*   wordIndexes = [1, 2, 3, 4, 5, 6, 7, 8, 9, 10]\n",
        "*   xLen = 4\n",
        "*   step = 2\n",
        "*   result = getSetFromIndexes(wordIndexes, xLen, step)\n",
        "\n",
        "\n",
        "Выход этого кода:\n",
        "\n",
        "[\n",
        "    [1, 2, 3, 4],  \n",
        "    [3, 4, 5, 6],  \n",
        "    [5, 6, 7, 8],  \n",
        "    [7, 8, 9, 10]\n",
        "]\n",
        "\n",
        "\n",
        "\n",
        "Здесь шаг 2, поэтому новые отрезки пересекаются\n",
        "\n",
        "Теперь каждая строка — это один обучающий пример для сети.\n",
        "\n",
        "\n",
        "\n"
      ],
      "metadata": {
        "id": "fOXZVO2h6c-A"
      }
    },
    {
      "cell_type": "markdown",
      "source": [
        "**Зачем разбивать на короткие векторы?**\n",
        "1.   Нейросеть принимает фиксированный размер входных данных\n",
        "*   Тексты бывают разной длины, но модели (например, RNN, LSTM, CNN) требуют входные последовательности одинаковой длины (xLen)\n",
        "*   Этот код превращает текст в подпоследовательности одинаковой длины.\n",
        "2.   Увеличение обучающей выборки\n",
        "*   Если просто передавать весь текст, у нас будет 1 пример на текст.\n",
        "*   Разбивая текст на пересекающиеся фрагменты, мы создаём больше примеров, что помогает модели лучше учиться.\n",
        "3. Учитывание контекста\n",
        "*   Благодаря step создаются перекрывающиеся окна, позволяя модели видеть слова в разных контекстах.\n",
        "*   Например, при анализе предложений сеть получает разные сочетания слов, а не только изолированные куски.\n",
        "\n",
        "\n",
        "\n",
        "\n",
        "\n"
      ],
      "metadata": {
        "id": "SlwbFXIv7p8Q"
      }
    },
    {
      "cell_type": "markdown",
      "source": [
        "**Код ниже разбивает текстовые данные (в виде индексов слов) на фиксированные отрезки и формирует обучающую выборку (xSamples) и метки классов (ySamples).**"
      ],
      "metadata": {
        "id": "AhhGubRR9wRo"
      }
    },
    {
      "cell_type": "code",
      "source": [
        "# Формирование обучающей и проверочной выборки\n",
        "# Из двух листов индексов от двух классов\n",
        "\n",
        "def createSetsMultiClasses(wordIndexes, xLen, step): # функция принимает последовательность индексов, размер окна, шаг окна\n",
        "\n",
        "  # Для каждого из классов\n",
        "  # Создаём обучающую/проверочную выборку из индексов\n",
        "  nClasses = len(wordIndexes) # задаем количество классов выборки\n",
        "  classesXSamples = []        # здесь будет список размером \"кол-во классов*кол-во окон в тексте*длину окна\"\n",
        "  for wI in wordIndexes:      # для каждого текста выборки из последовательности индексов\n",
        "    classesXSamples.append(getSetFromIndexes(wI, xLen, step)) # добавляем в список очередной текст индексов, разбитый на \"кол-во окон*длину окна\"\n",
        "\n",
        "  # Формируем один общий xSamples\n",
        "  xSamples = [] # здесь будет список размером \"суммарное кол-во окон во всех текстах*длину окна(например 15779*1000)\"\n",
        "  ySamples = [] # здесь будет список размером \"суммарное кол-во окон во всех текстах*вектор длиной 20\"\n",
        "\n",
        "  for t in range(nClasses):  # в диапазоне кол-ва классов\n",
        "    xT = classesXSamples[t]  # берем очередной текст вида \"кол-во окон в тексте*длину окна\"(например 1341*1000)\n",
        "    for i in range(len(xT)): # и каждое его окно\n",
        "      xSamples.append(xT[i]) # добавляем в общий список выборки\n",
        "\n",
        "    # Формируем ySamples по номеру класса\n",
        "    currY = utils.to_categorical(t, nClasses) # текущий класс переводится в вектор длиной 20 вида [0.0.0.1.0.0.0.....]\n",
        "    for i in range(len(xT)): # на каждое окно выборки\n",
        "      ySamples.append(currY) # добавляем соответствующий вектор класса\n",
        "\n",
        "  xSamples = np.array(xSamples) # переводим в массив numpy для подачи в нейронку\n",
        "  ySamples = np.array(ySamples) # переводим в массив numpy для подачи в нейронку\n",
        "\n",
        "\n",
        "  return (xSamples, ySamples)   # функция возвращает выборку и соответствующие векторы классов"
      ],
      "metadata": {
        "id": "RY8iVLqQa18U"
      },
      "execution_count": null,
      "outputs": []
    },
    {
      "cell_type": "markdown",
      "source": [
        "Как работает код выше?\n",
        "\n",
        "Пример на 3 классах текста:\n",
        "\n"
      ],
      "metadata": {
        "id": "oLlFeK_198FR"
      }
    },
    {
      "cell_type": "code",
      "source": [
        "#Допустим, у нас есть 3 класса текстов:\n",
        "#На вход:\n",
        "wordIndexes = [\n",
        "    [1, 2, 3, 4, 5, 6, 7, 8, 9, 10],   # 1-й класс\n",
        "    [11, 12, 13, 14, 15, 16, 17, 18],  # 2-й класс\n",
        "    [19, 20, 21, 22, 23, 24, 25, 26]   # 3-й класс\n",
        "]\n",
        "#Вызываем функцию:\n",
        "xSamples, ySamples = createSetsMultiClasses(wordIndexes, xLen=4, step=2)\n",
        "#На выходе получаем xSamples:\n",
        "[\n",
        "    [1, 2, 3, 4],   # Из 1-го класса\n",
        "    [3, 4, 5, 6],\n",
        "    [5, 6, 7, 8],\n",
        "    [7, 8, 9, 10],\n",
        "    [11, 12, 13, 14],  # Из 2-го класса\n",
        "    [13, 14, 15, 16],\n",
        "    [15, 16, 17, 18],\n",
        "    [19, 20, 21, 22],  # Из 3-го класса\n",
        "    [21, 22, 23, 24],\n",
        "    [23, 24, 25, 26]\n",
        "]\n",
        "# и ySamples:\n",
        "[\n",
        "    [1, 0, 0],  # 1-й класс\n",
        "    [1, 0, 0],\n",
        "    [1, 0, 0],\n",
        "    [1, 0, 0],\n",
        "    [0, 1, 0],  # 2-й класс\n",
        "    [0, 1, 0],\n",
        "    [0, 1, 0],\n",
        "    [0, 0, 1],  # 3-й класс\n",
        "    [0, 0, 1],\n",
        "    [0, 0, 1]\n",
        "]\n",
        "#xSamples - обучающая выборка\n",
        "#ySamples - правильные ответы к обучающей выборке (метки классов) Вектора OHE"
      ],
      "metadata": {
        "id": "MKL5JB4B-p6X"
      },
      "execution_count": null,
      "outputs": []
    },
    {
      "cell_type": "markdown",
      "source": [
        "**код ниже преобразует текстовые данные в числовые последовательности для подачи в нейросеть.**"
      ],
      "metadata": {
        "id": "wUjLhdPJ_24I"
      }
    },
    {
      "cell_type": "code",
      "source": [
        "# Преобразовываем текстовые данные в числовые/векторные для обучения нейросетью\n",
        "max_words_count = 5000 # определяем макс.кол-во слов/индексов, учитываемое при обучении текстов\n",
        "# для этого воспользуемся встроенной в Keras функцией Tokenizer для разбиения текста и превращения в матрицу числовых значений\n",
        "tokenizer = Tokenizer(num_words=max_words_count, filters='–—!\"#$%&()*+,-./:;<=>?@[\\\\]^_`{|}~\\t\\n\\xa0–\\ufeff', lower=True, split=' ', char_level=False, oov_token = 'unknown')\n",
        "# выше задаем параметры:\n",
        "# (num_words=maxWordsCount) - определяем макс.кол-во слов/индексов, учитываемое при обучении текстов\n",
        "# (filters='!\"#$%&()*+,-./:;<=>?@[\\\\]^_`{|}~\\t\\n') - избавляемся от ненужных символов\n",
        "# (lower=True) - приводим слова к нижнему регистру\n",
        "# (split=' ') - разделяем слова по пробелу\n",
        "# (char_level=False) - просим токенайзер не удалять однобуквенные слова\n",
        "\n",
        "tokenizer.fit_on_texts(data_text) #\"скармливаем\" наши тексты, т.е даём в обработку методу, который соберет словарь частотности\n",
        "items = list(tokenizer.word_index.items()) #вытаскиваем индексы слов для просмотра\n",
        "\n",
        "\n",
        "xlen = 1000 # Длина отрезка текста, по которой анализируем, в словах\n",
        "step = 200 # Шаг разбиения исходного текста на обучающие вектора\n",
        "\n",
        "train_words_indexes = tokenizer.texts_to_sequences(train_text)\n",
        "test_words_indexes = tokenizer.texts_to_sequences(test_text)\n",
        "x_train, y_train = createSetsMultiClasses(train_words_indexes, xlen, step)\n",
        "x_test, y_test = createSetsMultiClasses(test_words_indexes, xlen, step)"
      ],
      "metadata": {
        "id": "W0tvZdr7a308"
      },
      "execution_count": null,
      "outputs": []
    },
    {
      "cell_type": "markdown",
      "source": [
        "Что делает этот код?\n",
        "*   Создаёт Tokenizer из Keras (Преобразует слова в индексы/словарь частотности,удаляет ненужные символы, приводит текст к нижнему регистру, ограничивает словарь 5000 самыми частыми словами)\n",
        "*   Обучает Tokenizer на текстах(tokenizer.fit_on_texts(data_text) - создаёт словарь (слово → индекс).например {\"кот\": 1, \"собака\": 2, \"бегает\": 3})\n",
        "*   Конвертирует тексты в индексы(texts_to_sequences() - [\"кот бегает\", \"собака спит\"] -[[1, 3], [2, 4]] (если \"спит\" = 4 в словаре))\n",
        "*   Разбивает тексты на короткие последовательности (x_train, x_test)-(Использует createSetsMultiClasses,xlen = 1000: Каждое окно содержит 1000 слов, step = 200: Сдвигаем окно на 200 слов)\n",
        "\n",
        "\n",
        "\n"
      ],
      "metadata": {
        "id": "G40V0JvdAFs_"
      }
    },
    {
      "cell_type": "code",
      "source": [
        "#Например:\n",
        "data_t = [\"Кот бежал по крыше\", \"Собака лаяла на прохожих\"]\n",
        "#Токенайзер создает словарь:\n",
        "{\n",
        "    \"кот\": 1,\n",
        "    \"бежал\": 2,\n",
        "    \"по\": 3,\n",
        "    \"крыше\": 4,\n",
        "    \"собака\": 5,\n",
        "    \"лаяла\": 6,\n",
        "    \"на\": 7,\n",
        "    \"прохожих\": 8\n",
        "}\n",
        "#Преобразуем тексты в индексы:\n",
        "train_words_ind = tokenizer.texts_to_sequences(train_text)\n",
        "# [[\"Кот бежал по крыше\"], [\"Собака лаяла на прохожих\"]]\n",
        "# Результат: [[1, 2, 3, 4], [5, 6, 7, 8]]\n",
        "\n",
        "#Разбиваем на обучающие примеры:\n",
        "x_train, y_train = createSetsMultiClasses(train_words_indexes, xlen=2, step=1)\n",
        "\n",
        "#Получим разбитые последовательности по xlen=2:\n",
        "x_train = [\n",
        "    [1, 2],  # \"Кот бежал\"\n",
        "    [2, 3],  # \"бежал по\"\n",
        "    [3, 4],  # \"по крыше\"\n",
        "    [5, 6],  # \"Собака лаяла\"\n",
        "    [6, 7],  # \"лаяла на\"\n",
        "    [7, 8]   # \"на прохожих\"\n",
        "]"
      ],
      "metadata": {
        "id": "t3WkCt5PBWMe"
      },
      "execution_count": null,
      "outputs": []
    },
    {
      "cell_type": "code",
      "source": [
        "from google.colab import drive\n",
        "drive.mount('/content/drive')"
      ],
      "metadata": {
        "colab": {
          "base_uri": "https://localhost:8080/"
        },
        "id": "-soLhijfbN-z",
        "outputId": "e075a500-dcb6-47f3-fa0e-add57e4a739b"
      },
      "execution_count": null,
      "outputs": [
        {
          "output_type": "stream",
          "name": "stdout",
          "text": [
            "Mounted at /content/drive\n"
          ]
        }
      ]
    },
    {
      "cell_type": "code",
      "source": [
        "np.save('/content/drive/MyDrive/Colab Notebooks/x_train.npy', x_train)\n",
        "np.save('/content/drive/MyDrive/Colab Notebooks/y_train.npy', y_train)\n",
        "np.save('/content/drive/MyDrive/Colab Notebooks/x_test.npy', x_test)\n",
        "np.save('/content/drive/MyDrive/Colab Notebooks/y_test.npy', y_test)"
      ],
      "metadata": {
        "id": "kan3eE61a6Ks"
      },
      "execution_count": null,
      "outputs": []
    },
    {
      "cell_type": "code",
      "source": [
        "x_train = np.load('/content/drive/MyDrive/Colab Notebooks/x_train.npy')\n",
        "y_train = np.load('/content/drive/MyDrive/Colab Notebooks/y_train.npy')\n",
        "x_test = np.load('/content/drive/MyDrive/Colab Notebooks/x_test.npy')\n",
        "y_test = np.load('/content/drive/MyDrive/Colab Notebooks/y_test.npy')"
      ],
      "metadata": {
        "id": "FpqfbCZEb6vE"
      },
      "execution_count": null,
      "outputs": []
    },
    {
      "cell_type": "markdown",
      "source": [
        "**код ниже преобразует последовательности слов (индексы слов) в матрицу признаков для подачи в нейросеть.**"
      ],
      "metadata": {
        "id": "s3BqNbjgB-Vu"
      }
    },
    {
      "cell_type": "code",
      "source": [
        "x_train01 = tokenizer.sequences_to_matrix(x_train.tolist()) #Подаем xTrain в виде списка, чтобы метод успешно срабтал\n",
        "x_test01 = tokenizer.sequences_to_matrix(x_test.tolist()) # Подаем xTest в виде списка, чтобы метод успешно сработал"
      ],
      "metadata": {
        "id": "pp3OgbGzb_iM"
      },
      "execution_count": null,
      "outputs": []
    },
    {
      "cell_type": "markdown",
      "source": [
        "##BoW"
      ],
      "metadata": {
        "id": "K2rTV0Bds0wJ"
      }
    },
    {
      "cell_type": "code",
      "source": [
        "model01 = Sequential()\n",
        "model01.add(Dense(500, input_dim=max_words_count, activation=\"relu\"))\n",
        "model01.add(Dropout(0.25))\n",
        "model01.add(BatchNormalization())\n",
        "model01.add(Dense(20, activation='softmax'))\n",
        "model01.compile(optimizer='adam',\n",
        "              loss='categorical_crossentropy',\n",
        "              metrics=['accuracy'])\n",
        "\n",
        "history = model01.fit(x_train01,\n",
        "                      y_train,\n",
        "                      epochs=10,\n",
        "                      batch_size=128,\n",
        "                      validation_data=(x_test01, y_test))\n",
        "\n",
        "plt.plot(history.history['accuracy'],\n",
        "         label='Доля верных ответов на обучающем наборе')\n",
        "plt.plot(history.history['val_accuracy'],\n",
        "         label='Доля верных ответов на проверочном наборе')\n",
        "plt.xlabel('Эпоха обучения')\n",
        "plt.ylabel('Доля верных ответов')\n",
        "plt.legend()\n",
        "plt.show()"
      ],
      "metadata": {
        "colab": {
          "base_uri": "https://localhost:8080/",
          "height": 855
        },
        "id": "tM5qiXKarinc",
        "outputId": "bfa9b1f1-022e-4472-ee1e-5a2b0b396740"
      },
      "execution_count": null,
      "outputs": [
        {
          "output_type": "stream",
          "name": "stderr",
          "text": [
            "/usr/local/lib/python3.11/dist-packages/keras/src/layers/core/dense.py:87: UserWarning: Do not pass an `input_shape`/`input_dim` argument to a layer. When using Sequential models, prefer using an `Input(shape)` object as the first layer in the model instead.\n",
            "  super().__init__(activity_regularizer=activity_regularizer, **kwargs)\n"
          ]
        },
        {
          "output_type": "stream",
          "name": "stdout",
          "text": [
            "Epoch 1/10\n",
            "\u001b[1m271/271\u001b[0m \u001b[32m━━━━━━━━━━━━━━━━━━━━\u001b[0m\u001b[37m\u001b[0m \u001b[1m6s\u001b[0m 13ms/step - accuracy: 0.8565 - loss: 0.5367 - val_accuracy: 0.9380 - val_loss: 0.2746\n",
            "Epoch 2/10\n",
            "\u001b[1m271/271\u001b[0m \u001b[32m━━━━━━━━━━━━━━━━━━━━\u001b[0m\u001b[37m\u001b[0m \u001b[1m6s\u001b[0m 5ms/step - accuracy: 0.9941 - loss: 0.0178 - val_accuracy: 0.9414 - val_loss: 0.2446\n",
            "Epoch 3/10\n",
            "\u001b[1m271/271\u001b[0m \u001b[32m━━━━━━━━━━━━━━━━━━━━\u001b[0m\u001b[37m\u001b[0m \u001b[1m3s\u001b[0m 5ms/step - accuracy: 0.9925 - loss: 0.0143 - val_accuracy: 0.9454 - val_loss: 0.2253\n",
            "Epoch 4/10\n",
            "\u001b[1m271/271\u001b[0m \u001b[32m━━━━━━━━━━━━━━━━━━━━\u001b[0m\u001b[37m\u001b[0m \u001b[1m1s\u001b[0m 5ms/step - accuracy: 0.9932 - loss: 0.0150 - val_accuracy: 0.9446 - val_loss: 0.2312\n",
            "Epoch 5/10\n",
            "\u001b[1m271/271\u001b[0m \u001b[32m━━━━━━━━━━━━━━━━━━━━\u001b[0m\u001b[37m\u001b[0m \u001b[1m1s\u001b[0m 5ms/step - accuracy: 0.9942 - loss: 0.0101 - val_accuracy: 0.9442 - val_loss: 0.2330\n",
            "Epoch 6/10\n",
            "\u001b[1m271/271\u001b[0m \u001b[32m━━━━━━━━━━━━━━━━━━━━\u001b[0m\u001b[37m\u001b[0m \u001b[1m3s\u001b[0m 4ms/step - accuracy: 0.9940 - loss: 0.0101 - val_accuracy: 0.9482 - val_loss: 0.2153\n",
            "Epoch 7/10\n",
            "\u001b[1m271/271\u001b[0m \u001b[32m━━━━━━━━━━━━━━━━━━━━\u001b[0m\u001b[37m\u001b[0m \u001b[1m1s\u001b[0m 5ms/step - accuracy: 0.9947 - loss: 0.0091 - val_accuracy: 0.9483 - val_loss: 0.2213\n",
            "Epoch 8/10\n",
            "\u001b[1m271/271\u001b[0m \u001b[32m━━━━━━━━━━━━━━━━━━━━\u001b[0m\u001b[37m\u001b[0m \u001b[1m3s\u001b[0m 6ms/step - accuracy: 0.9938 - loss: 0.0101 - val_accuracy: 0.9475 - val_loss: 0.2238\n",
            "Epoch 9/10\n",
            "\u001b[1m271/271\u001b[0m \u001b[32m━━━━━━━━━━━━━━━━━━━━\u001b[0m\u001b[37m\u001b[0m \u001b[1m2s\u001b[0m 5ms/step - accuracy: 0.9944 - loss: 0.0098 - val_accuracy: 0.9389 - val_loss: 0.2477\n",
            "Epoch 10/10\n",
            "\u001b[1m271/271\u001b[0m \u001b[32m━━━━━━━━━━━━━━━━━━━━\u001b[0m\u001b[37m\u001b[0m \u001b[1m3s\u001b[0m 5ms/step - accuracy: 0.9936 - loss: 0.0101 - val_accuracy: 0.9442 - val_loss: 0.2346\n"
          ]
        },
        {
          "output_type": "display_data",
          "data": {
            "text/plain": [
              "<Figure size 640x480 with 1 Axes>"
            ],
            "image/png": "[encoded data removed]"
          },
          "metadata": {}
        }
      ]
    },
    {
      "cell_type": "markdown",
      "source": [
        "Вывод:\n",
        "*   Точность на обучающем наборе: Очень высокая, приближается к 100%.\n",
        "*   Точность на валидации: Хорошая, но есть небольшие колебания (на последних эпохах точность немного снизилась).\n",
        "*   Потери: Быстро снижаются и стабилизируются на низких значениях.\n",
        "\n",
        "\n",
        "\n"
      ],
      "metadata": {
        "id": "n7bDgg8as-Rp"
      }
    },
    {
      "cell_type": "markdown",
      "source": [
        "##Embedding"
      ],
      "metadata": {
        "id": "0PVP2qqXs4Fg"
      }
    },
    {
      "cell_type": "code",
      "source": [
        "model= Sequential()\n",
        "model.add(Embedding(max_words_count , output_dim=20, input_length=xlen))\n",
        "model.add(SpatialDropout1D(0.2))\n",
        "model.add(Flatten())\n",
        "model.add(BatchNormalization())\n",
        "model.add(Dense(500, activation='relu'))\n",
        "model.add(Dropout(0.25))\n",
        "model.add(BatchNormalization())\n",
        "model.add(Dense(20, activation='softmax'))\n",
        "model.compile(optimizer='adam', metrics=['accuracy'], loss = 'categorical_crossentropy')\n",
        "history = model.fit(x_train, y_train, batch_size=256, epochs=10, validation_data=(x_test, y_test), verbose=1)\n",
        "plt.plot(history.history['accuracy'],\n",
        "         label='Доля верных ответов на обучающем наборе')\n",
        "plt.plot(history.history['val_accuracy'],\n",
        "         label='Доля верных ответов на проверочном наборе')\n",
        "plt.xlabel('Эпоха обучения')\n",
        "plt.ylabel('Доля верных ответов')\n",
        "plt.legend()\n",
        "plt.show()"
      ],
      "metadata": {
        "colab": {
          "base_uri": "https://localhost:8080/",
          "height": 855
        },
        "id": "wG9UgCiur0jS",
        "outputId": "c803ad6f-44e8-4db6-e21f-a9a7786e4621"
      },
      "execution_count": null,
      "outputs": [
        {
          "output_type": "stream",
          "name": "stderr",
          "text": [
            "/usr/local/lib/python3.11/dist-packages/keras/src/layers/core/embedding.py:90: UserWarning: Argument `input_length` is deprecated. Just remove it.\n",
            "  warnings.warn(\n"
          ]
        },
        {
          "output_type": "stream",
          "name": "stdout",
          "text": [
            "Epoch 1/10\n",
            "\u001b[1m136/136\u001b[0m \u001b[32m━━━━━━━━━━━━━━━━━━━━\u001b[0m\u001b[37m\u001b[0m \u001b[1m11s\u001b[0m 44ms/step - accuracy: 0.1992 - loss: 3.2155 - val_accuracy: 0.0424 - val_loss: 2.9915\n",
            "Epoch 2/10\n",
            "\u001b[1m136/136\u001b[0m \u001b[32m━━━━━━━━━━━━━━━━━━━━\u001b[0m\u001b[37m\u001b[0m \u001b[1m3s\u001b[0m 11ms/step - accuracy: 0.9685 - loss: 0.1899 - val_accuracy: 0.1236 - val_loss: 2.5486\n",
            "Epoch 3/10\n",
            "\u001b[1m136/136\u001b[0m \u001b[32m━━━━━━━━━━━━━━━━━━━━\u001b[0m\u001b[37m\u001b[0m \u001b[1m2s\u001b[0m 10ms/step - accuracy: 0.9942 - loss: 0.0534 - val_accuracy: 0.4890 - val_loss: 1.6620\n",
            "Epoch 4/10\n",
            "\u001b[1m136/136\u001b[0m \u001b[32m━━━━━━━━━━━━━━━━━━━━\u001b[0m\u001b[37m\u001b[0m \u001b[1m1s\u001b[0m 10ms/step - accuracy: 0.9951 - loss: 0.0336 - val_accuracy: 0.6643 - val_loss: 1.1206\n",
            "Epoch 5/10\n",
            "\u001b[1m136/136\u001b[0m \u001b[32m━━━━━━━━━━━━━━━━━━━━\u001b[0m\u001b[37m\u001b[0m \u001b[1m1s\u001b[0m 10ms/step - accuracy: 0.9973 - loss: 0.0204 - val_accuracy: 0.7153 - val_loss: 0.9476\n",
            "Epoch 6/10\n",
            "\u001b[1m136/136\u001b[0m \u001b[32m━━━━━━━━━━━━━━━━━━━━\u001b[0m\u001b[37m\u001b[0m \u001b[1m3s\u001b[0m 11ms/step - accuracy: 0.9978 - loss: 0.0154 - val_accuracy: 0.7006 - val_loss: 0.9938\n",
            "Epoch 7/10\n",
            "\u001b[1m136/136\u001b[0m \u001b[32m━━━━━━━━━━━━━━━━━━━━\u001b[0m\u001b[37m\u001b[0m \u001b[1m1s\u001b[0m 10ms/step - accuracy: 0.9983 - loss: 0.0129 - val_accuracy: 0.7127 - val_loss: 1.0143\n",
            "Epoch 8/10\n",
            "\u001b[1m136/136\u001b[0m \u001b[32m━━━━━━━━━━━━━━━━━━━━\u001b[0m\u001b[37m\u001b[0m \u001b[1m1s\u001b[0m 10ms/step - accuracy: 0.9976 - loss: 0.0131 - val_accuracy: 0.7023 - val_loss: 1.0887\n",
            "Epoch 9/10\n",
            "\u001b[1m136/136\u001b[0m \u001b[32m━━━━━━━━━━━━━━━━━━━━\u001b[0m\u001b[37m\u001b[0m \u001b[1m3s\u001b[0m 10ms/step - accuracy: 0.9984 - loss: 0.0104 - val_accuracy: 0.5646 - val_loss: 2.0511\n",
            "Epoch 10/10\n",
            "\u001b[1m136/136\u001b[0m \u001b[32m━━━━━━━━━━━━━━━━━━━━\u001b[0m\u001b[37m\u001b[0m \u001b[1m1s\u001b[0m 10ms/step - accuracy: 0.9887 - loss: 0.0424 - val_accuracy: 0.6825 - val_loss: 1.2286\n"
          ]
        },
        {
          "output_type": "display_data",
          "data": {
            "text/plain": [
              "<Figure size 640x480 with 1 Axes>"
            ],
            "image/png": "[encoded data removed]"
          },
          "metadata": {}
        }
      ]
    },
    {
      "cell_type": "markdown",
      "source": [
        "Вывод:\n",
        "\n",
        "\n",
        "*   Точность на обучающем наборе: Очень высокая, почти 100% к 10-й эпохе\n",
        "*   Точность на валидации: Изначально наблюдается рост, но к 9-й эпохе происходит снижение. Возможно, это сигнализирует о переобучении.\n",
        "*   Потери: Потери на обучении и валидации стабилизировались, но на валидации они увеличиваются\n"
      ],
      "metadata": {
        "id": "ZQ28Mrowthxp"
      }
    },
    {
      "cell_type": "markdown",
      "source": [
        "Для улучшения обучения на проверочной выборке попробуем:\n",
        "*   использовать регуляризацию\n",
        "*   SpatialDropOut\n",
        "*   Early Stopping(в случае. если точность не улучшится)"
      ],
      "metadata": {
        "id": "4tNiYDRatzKS"
      }
    },
    {
      "cell_type": "markdown",
      "source": [
        "##Дообучение модели Embedding"
      ],
      "metadata": {
        "id": "zx0C4tK_0HSY"
      }
    },
    {
      "cell_type": "code",
      "source": [
        "from tensorflow.keras.callbacks import EarlyStopping\n",
        "from tensorflow.keras.regularizers import l2\n",
        "\n",
        "# Модифицированная модель с добавлением L2 регуляризации\n",
        "model = Sequential()\n",
        "model.add(Embedding(max_words_count, output_dim=20, input_length=xlen))\n",
        "model.add(SpatialDropout1D(0.2))  # Применение SpatialDropout\n",
        "model.add(Flatten())\n",
        "model.add(BatchNormalization())\n",
        "model.add(Dense(500, activation='relu', kernel_regularizer=l2(0.01)))  # L2 регуляризация для предотвращения переобучения\n",
        "model.add(Dropout(0.25))  # Dropout для предотвращения переобучения\n",
        "model.add(BatchNormalization())\n",
        "model.add(Dense(20, activation='softmax'))\n",
        "model.compile(optimizer='adam', metrics=['accuracy'], loss='categorical_crossentropy')\n",
        "\n",
        "# Ранняя остановка для предотвращения переобучения\n",
        "early_stopping = EarlyStopping(monitor='val_loss', patience=3, restore_best_weights=True)\n",
        "\n",
        "# Обучение модели с добавлением ранней остановки\n",
        "history = model.fit(\n",
        "    x_train, y_train,\n",
        "    batch_size=256,\n",
        "    epochs=10,\n",
        "    validation_data=(x_test, y_test),\n",
        "    verbose=1,\n",
        "    callbacks=[early_stopping]\n",
        ")\n",
        "\n",
        "# Построение графика точности\n",
        "plt.plot(history.history['accuracy'], label='Доля верных ответов на обучающем наборе')\n",
        "plt.plot(history.history['val_accuracy'], label='Доля верных ответов на проверочном наборе')\n",
        "plt.xlabel('Эпоха обучения')\n",
        "plt.ylabel('Доля верных ответов')\n",
        "plt.legend()\n",
        "plt.show()"
      ],
      "metadata": {
        "colab": {
          "base_uri": "https://localhost:8080/",
          "height": 823
        },
        "id": "fRKoLu01yyio",
        "outputId": "18ae2341-a7a0-4215-d223-ca4e09320101"
      },
      "execution_count": null,
      "outputs": [
        {
          "output_type": "stream",
          "name": "stdout",
          "text": [
            "Epoch 1/10\n",
            "\u001b[1m136/136\u001b[0m \u001b[32m━━━━━━━━━━━━━━━━━━━━\u001b[0m\u001b[37m\u001b[0m \u001b[1m11s\u001b[0m 35ms/step - accuracy: 0.2043 - loss: 12.3927 - val_accuracy: 0.0407 - val_loss: 7.0908\n",
            "Epoch 2/10\n",
            "\u001b[1m136/136\u001b[0m \u001b[32m━━━━━━━━━━━━━━━━━━━━\u001b[0m\u001b[37m\u001b[0m \u001b[1m2s\u001b[0m 12ms/step - accuracy: 0.9430 - loss: 3.2490 - val_accuracy: 0.2256 - val_loss: 5.1653\n",
            "Epoch 3/10\n",
            "\u001b[1m136/136\u001b[0m \u001b[32m━━━━━━━━━━━━━━━━━━━━\u001b[0m\u001b[37m\u001b[0m \u001b[1m2s\u001b[0m 13ms/step - accuracy: 0.9236 - loss: 2.8492 - val_accuracy: 0.5928 - val_loss: 3.6392\n",
            "Epoch 4/10\n",
            "\u001b[1m136/136\u001b[0m \u001b[32m━━━━━━━━━━━━━━━━━━━━\u001b[0m\u001b[37m\u001b[0m \u001b[1m2s\u001b[0m 11ms/step - accuracy: 0.9307 - loss: 2.8376 - val_accuracy: 0.6880 - val_loss: 3.0651\n",
            "Epoch 5/10\n",
            "\u001b[1m136/136\u001b[0m \u001b[32m━━━━━━━━━━━━━━━━━━━━\u001b[0m\u001b[37m\u001b[0m \u001b[1m3s\u001b[0m 14ms/step - accuracy: 0.9354 - loss: 2.8709 - val_accuracy: 0.7456 - val_loss: 3.0974\n",
            "Epoch 6/10\n",
            "\u001b[1m136/136\u001b[0m \u001b[32m━━━━━━━━━━━━━━━━━━━━\u001b[0m\u001b[37m\u001b[0m \u001b[1m2s\u001b[0m 12ms/step - accuracy: 0.9461 - loss: 2.5813 - val_accuracy: 0.7724 - val_loss: 3.0189\n",
            "Epoch 7/10\n",
            "\u001b[1m136/136\u001b[0m \u001b[32m━━━━━━━━━━━━━━━━━━━━\u001b[0m\u001b[37m\u001b[0m \u001b[1m3s\u001b[0m 12ms/step - accuracy: 0.9446 - loss: 2.7881 - val_accuracy: 0.7688 - val_loss: 2.9929\n",
            "Epoch 8/10\n",
            "\u001b[1m136/136\u001b[0m \u001b[32m━━━━━━━━━━━━━━━━━━━━\u001b[0m\u001b[37m\u001b[0m \u001b[1m3s\u001b[0m 11ms/step - accuracy: 0.9231 - loss: 3.6199 - val_accuracy: 0.7815 - val_loss: 2.9643\n",
            "Epoch 9/10\n",
            "\u001b[1m136/136\u001b[0m \u001b[32m━━━━━━━━━━━━━━━━━━━━\u001b[0m\u001b[37m\u001b[0m \u001b[1m2s\u001b[0m 11ms/step - accuracy: 0.9571 - loss: 2.4312 - val_accuracy: 0.7513 - val_loss: 3.2407\n",
            "Epoch 10/10\n",
            "\u001b[1m136/136\u001b[0m \u001b[32m━━━━━━━━━━━━━━━━━━━━\u001b[0m\u001b[37m\u001b[0m \u001b[1m2s\u001b[0m 12ms/step - accuracy: 0.9455 - loss: 2.9769 - val_accuracy: 0.7916 - val_loss: 2.8813\n"
          ]
        },
        {
          "output_type": "display_data",
          "data": {
            "text/plain": [
              "<Figure size 640x480 with 1 Axes>"
            ],
            "image/png": "[encoded data removed]"
          },
          "metadata": {}
        }
      ]
    },
    {
      "cell_type": "markdown",
      "source": [
        "Вывод: Результаты обучения показывают определённое улучшение по сравнению с предыдущими эпохами."
      ],
      "metadata": {
        "id": "3YCuVsbLzh84"
      }
    }
  ]
}